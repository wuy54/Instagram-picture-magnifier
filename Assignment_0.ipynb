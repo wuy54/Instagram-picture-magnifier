{
  "nbformat": 4,
  "nbformat_minor": 0,
  "metadata": {
    "colab": {
      "name": "Assignment-0",
      "provenance": [],
      "include_colab_link": true
    },
    "kernelspec": {
      "name": "python3",
      "display_name": "Python 3"
    },
    "language_info": {
      "name": "python"
    }
  },
  "cells": [
    {
      "cell_type": "markdown",
      "metadata": {
        "id": "view-in-github",
        "colab_type": "text"
      },
      "source": [
        "<a href=\"https://colab.research.google.com/github/wuy54/Instagram-picture-magnifier/blob/main/Assignment_0.ipynb\" target=\"_parent\"><img src=\"https://colab.research.google.com/assets/colab-badge.svg\" alt=\"Open In Colab\"/></a>"
      ]
    },
    {
      "cell_type": "markdown",
      "source": [
        "In this assignment we are going to work with data that was downloaded using using the [yfinance](https://pypi.org/project/yfinance/) library. It containst daily closing prices of all symbols."
      ],
      "metadata": {
        "id": "XZ8EGoj3LAv2"
      }
    },
    {
      "cell_type": "code",
      "source": [
        "from multiprocessing   import Pool\n",
        "from tqdm import *\n",
        "import pandas as pd\n",
        "import numpy as np"
      ],
      "metadata": {
        "id": "Wh2tTkoMM6sg"
      },
      "execution_count": 1,
      "outputs": []
    },
    {
      "cell_type": "code",
      "source": [
        "#Question 1: Explain what the code below is trying to do. Describe each step.\n",
        "data = pd.read_csv(\"http://www.nasdaqtrader.com/dynamic/SymDir/nasdaqtraded.txt\", sep='|')\n",
        "data_clean = data[data['Test Issue'] == 'N']\n",
        "symbols = set(data_clean['NASDAQ Symbol'].tolist())\n",
        "data = pd.read_csv(\"http://www.nasdaqtrader.com/dynamic/SymDir/otherlisted.txt\", sep='|')\n",
        "data_clean = data[data['Test Issue'] == 'N']\n",
        "symbols = set(data_clean['NASDAQ Symbol'].tolist())\n"
      ],
      "metadata": {
        "id": "5HN0Mhq4LFe2"
      },
      "execution_count": 2,
      "outputs": []
    },
    {
      "cell_type": "code",
      "source": [
        "#Describe your answer below.\n",
        "#Answer 1: \n",
        "# The first line is to read the csv file, which is the linked .txt file as\n",
        "# the first parameter of the function, with a delimiter \"|\" to separate \n",
        "# string values and put the values into the data frame variable \"data\".\n",
        "# It uses read_csv function imported from \"pandas\" package.\n",
        "#\n",
        "# The second line is setting a data frame 'data_clean' with only data in the \n",
        "# data frame \"data\" that the \"Test Issue\" has a value of \"N\"\n",
        "\n",
        "# The third line assigns a set of all possible values of 'NASDAQ Symbol' to \n",
        "# the variable \"symbols\"\n",
        "\n",
        "# The forth line reads another csv file and overwrite all data saved in the \n",
        "# dataframe \"data\" with new ones.\n",
        "\n",
        "# The fifth line is updating the data frame 'data_clean' with only data in the \n",
        "# data frame \"data\" that the \"Test Issue\" has a value of \"N\" but with the new\n",
        "# \"data\" dataframe.\n",
        "\n",
        "# The sixth line is doing the same thing as the third line but with the\n",
        "# updated \"data_clean\""
      ],
      "metadata": {
        "id": "MYY6pkbnMUvO"
      },
      "execution_count": null,
      "outputs": []
    },
    {
      "cell_type": "code",
      "source": [
        "!wget  -O stocks.parquet https://www.dropbox.com/s/gzpi950gfdz9dsk/stocks.parquet?dl=1 # lets download the data"
      ],
      "metadata": {
        "id": "5b3j282aZMIO",
        "colab": {
          "base_uri": "https://localhost:8080/"
        },
        "outputId": "0754b7eb-699b-4794-accf-bdc1fe2a1967"
      },
      "execution_count": 3,
      "outputs": [
        {
          "output_type": "stream",
          "name": "stdout",
          "text": [
            "--2023-01-26 11:30:17--  https://www.dropbox.com/s/gzpi950gfdz9dsk/stocks.parquet?dl=1\r\n",
            "Resolving www.dropbox.com (www.dropbox.com)... 162.125.6.18, 2620:100:601c:18::a27d:612\r\n",
            "Connecting to www.dropbox.com (www.dropbox.com)|162.125.6.18|:443... connected.\n",
            "HTTP request sent, awaiting response... 302 Found\n",
            "Location: /s/dl/gzpi950gfdz9dsk/stocks.parquet [following]\n",
            "--2023-01-26 11:30:17--  https://www.dropbox.com/s/dl/gzpi950gfdz9dsk/stocks.parquet\n",
            "Reusing existing connection to www.dropbox.com:443.\n",
            "HTTP request sent, awaiting response... 302 Found\n",
            "Location: https://uc2bc54d47044af8f323e6e64f41.dl.dropboxusercontent.com/cd/0/get/B1RU8j3CljJijQU8C7Fbf4WwCzzii_pFcdl3Zi6Vr3kGe6FVCRTs87yg0voZGRn-nHRR_IFhcMga6mJi5-m9mlDIVZNujARDL7Nlj9v19OTMJyPf-uYzCzvasODiD1ZcLfVsEtNm-ik--aQbBmRrKkbT9FArPGIBkJC6kzmmeT-A3Q/file?dl=1# [following]\n",
            "--2023-01-26 11:30:17--  https://uc2bc54d47044af8f323e6e64f41.dl.dropboxusercontent.com/cd/0/get/B1RU8j3CljJijQU8C7Fbf4WwCzzii_pFcdl3Zi6Vr3kGe6FVCRTs87yg0voZGRn-nHRR_IFhcMga6mJi5-m9mlDIVZNujARDL7Nlj9v19OTMJyPf-uYzCzvasODiD1ZcLfVsEtNm-ik--aQbBmRrKkbT9FArPGIBkJC6kzmmeT-A3Q/file?dl=1\n",
            "Resolving uc2bc54d47044af8f323e6e64f41.dl.dropboxusercontent.com (uc2bc54d47044af8f323e6e64f41.dl.dropboxusercontent.com)... 162.125.6.15, 2620:100:601c:15::a27d:60f\n",
            "Connecting to uc2bc54d47044af8f323e6e64f41.dl.dropboxusercontent.com (uc2bc54d47044af8f323e6e64f41.dl.dropboxusercontent.com)|162.125.6.15|:443... connected.\n",
            "HTTP request sent, awaiting response... 200 OK\n",
            "Length: 678640589 (647M) [application/binary]\n",
            "Saving to: ‘stocks.parquet’\n",
            "\n",
            "stocks.parquet      100%[===================>] 647.20M   109MB/s    in 6.3s    \n",
            "\n",
            "2023-01-26 11:30:24 (103 MB/s) - ‘stocks.parquet’ saved [678640589/678640589]\n",
            "\n"
          ]
        }
      ]
    },
    {
      "cell_type": "code",
      "source": [
        "!ls stocks.parquet -l #downloaded file"
      ],
      "metadata": {
        "colab": {
          "base_uri": "https://localhost:8080/"
        },
        "id": "jPZoUqKNZhRX",
        "outputId": "a3915c5e-87ae-443d-b97c-1f03b9d3d2f6"
      },
      "execution_count": 4,
      "outputs": [
        {
          "output_type": "stream",
          "name": "stdout",
          "text": [
            "-rw-rw-r-- 1 ubuntu ubuntu 678640589 Jan 26 11:30 stocks.parquet\r\n"
          ]
        }
      ]
    },
    {
      "cell_type": "code",
      "source": [
        "#Bonus question 1 - find on internet and write the command that will download the all data from the symbols list. "
      ],
      "metadata": {
        "id": "m9ZaZDOgNxhF"
      },
      "execution_count": null,
      "outputs": []
    },
    {
      "cell_type": "code",
      "source": [
        "data=pd.read_parquet('stocks.parquet')"
      ],
      "metadata": {
        "id": "AldxdSqFZ1mC"
      },
      "execution_count": 5,
      "outputs": []
    },
    {
      "cell_type": "code",
      "source": [
        "data.head(1) # Below shows a sample of the data.\n",
        "#date - describes the day of the price\n",
        "#open - the price at which stock opened\n",
        "#high - what was the intraday high\n",
        "#low - what is the intraday low\n",
        "#close - what was the closing price\n",
        "#adj_close - the price calculated after adjusting for all future stock splits\n",
        "#dividends - what are the dividends that were paid on the day.\n",
        "#stock_splits - if the stock was split\n",
        "#symbol the symbol of the stock\n"
      ],
      "metadata": {
        "colab": {
          "base_uri": "https://localhost:8080/",
          "height": 80
        },
        "id": "JLriTcuObF3k",
        "outputId": "07dfe672-0842-4208-90b2-efcf8041811a"
      },
      "execution_count": 6,
      "outputs": [
        {
          "output_type": "execute_result",
          "data": {
            "text/plain": [
              "         date      open      high       low     close  adj_close     volume  \\\n",
              "0  1962-01-02  0.131273  0.131273  0.124177  0.124177   0.045278  2480333.0   \n",
              "\n",
              "   dividends stock_splits symbol  day  year  month dayofweek  \n",
              "0        0.0          0.0    HPQ    2  1962      1   Tuesday  "
            ],
            "text/html": [
              "<div>\n",
              "<style scoped>\n",
              "    .dataframe tbody tr th:only-of-type {\n",
              "        vertical-align: middle;\n",
              "    }\n",
              "\n",
              "    .dataframe tbody tr th {\n",
              "        vertical-align: top;\n",
              "    }\n",
              "\n",
              "    .dataframe thead th {\n",
              "        text-align: right;\n",
              "    }\n",
              "</style>\n",
              "<table border=\"1\" class=\"dataframe\">\n",
              "  <thead>\n",
              "    <tr style=\"text-align: right;\">\n",
              "      <th></th>\n",
              "      <th>date</th>\n",
              "      <th>open</th>\n",
              "      <th>high</th>\n",
              "      <th>low</th>\n",
              "      <th>close</th>\n",
              "      <th>adj_close</th>\n",
              "      <th>volume</th>\n",
              "      <th>dividends</th>\n",
              "      <th>stock_splits</th>\n",
              "      <th>symbol</th>\n",
              "      <th>day</th>\n",
              "      <th>year</th>\n",
              "      <th>month</th>\n",
              "      <th>dayofweek</th>\n",
              "    </tr>\n",
              "  </thead>\n",
              "  <tbody>\n",
              "    <tr>\n",
              "      <th>0</th>\n",
              "      <td>1962-01-02</td>\n",
              "      <td>0.131273</td>\n",
              "      <td>0.131273</td>\n",
              "      <td>0.124177</td>\n",
              "      <td>0.124177</td>\n",
              "      <td>0.045278</td>\n",
              "      <td>2480333.0</td>\n",
              "      <td>0.0</td>\n",
              "      <td>0.0</td>\n",
              "      <td>HPQ</td>\n",
              "      <td>2</td>\n",
              "      <td>1962</td>\n",
              "      <td>1</td>\n",
              "      <td>Tuesday</td>\n",
              "    </tr>\n",
              "  </tbody>\n",
              "</table>\n",
              "</div>"
            ]
          },
          "metadata": {},
          "execution_count": 6
        }
      ]
    },
    {
      "cell_type": "code",
      "source": [
        "# Question 2 find top 20 best performer stocks - i.e. the stocks that provided the best return.\n",
        "# if the stocks adj_close on the earliest date was X and the adj_close on the 2021-01-01 is y and the number of days elapsed between these dates is Z.\n",
        "# Then return = Y/X/Z\n",
        "# Sort the stocks by this return and find the top 20\n",
        "\n",
        "df = data[['symbol', 'date', 'adj_close']]\n",
        "df = df.dropna()\n",
        "df = df[df != 0]\n",
        "df = df.sort_values(['date'])\n",
        "df_first = df.drop_duplicates('symbol', keep='first')\n",
        "df_last = df.drop_duplicates('symbol', keep='last')\n",
        "df = pd.merge(df_first, df_last, on=\"symbol\")\n",
        "df['day_passed'] = (pd.to_datetime(df['date_y']) - \\\n",
        "                    pd.to_datetime(df['date_x'])).dt.days\n",
        "df = df[df['day_passed'] != 0] # removing stocks with only one day of data\n",
        "df['return'] = df['adj_close_y'] / df['adj_close_x'] / df['day_passed']\n",
        "df = df.sort_values(by='return', ascending=False)\n",
        "df_result = df.head(20)[['symbol', 'return']]\n",
        "print(df_result)\n",
        "\n"
      ],
      "metadata": {
        "id": "c3vJMi_8bAwC",
        "colab": {
          "base_uri": "https://localhost:8080/"
        },
        "outputId": "f22a50e4-53ff-4895-a816-621af9501c65"
      },
      "execution_count": 42,
      "outputs": [
        {
          "output_type": "stream",
          "name": "stdout",
          "text": [
            "      symbol        return\n",
            "509      NVO  3.302876e+06\n",
            "499      NKE  2.959418e+03\n",
            "289      DCI  3.869564e+02\n",
            "789      TJX  2.063167e+02\n",
            "346     WTRG  7.221605e+00\n",
            "422      TTC  6.224708e+00\n",
            "158      USB  4.078555e+00\n",
            "27       MCD  3.374097e+00\n",
            "809      PII  2.554223e+00\n",
            "516       HD  1.506773e+00\n",
            "11029   IQMD  1.001014e+00\n",
            "11032  AOGOU  9.990020e-01\n",
            "11030   PCCT  9.959839e-01\n",
            "34       ETN  9.076372e-01\n",
            "11031  FRLAW  8.888889e-01\n",
            "368      HAS  7.035260e-01\n",
            "11        KO  6.680578e-01\n",
            "10        MO  6.485381e-01\n",
            "3457     KOL  5.786728e-01\n",
            "432      HRL  5.406652e-01\n"
          ]
        }
      ]
    },
    {
      "cell_type": "code",
      "source": [
        "#Question 3: Create a copy of this notebook called assignment-aws and follow the instructions in readme to run the notebook on AWS compute instance.\n",
        "# Compare performance of running natively on colab and colab+AWS\n",
        "# \n",
        "# Answer: Based on my attemps, the code runs slower on AWS than my local machine."
      ],
      "metadata": {
        "id": "c1jLuH32dDhR"
      },
      "execution_count": null,
      "outputs": []
    }
  ]
}